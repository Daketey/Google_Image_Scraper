{
 "cells": [
  {
   "cell_type": "code",
   "execution_count": 71,
   "metadata": {},
   "outputs": [],
   "source": [
    "from bs4 import BeautifulSoup\n",
    "import selenium\n",
    "from selenium import webdriver\n",
    "import time\n",
    "import base64\n",
    "import cv2\n",
    "import matplotlib.pyplot as plt\n",
    "import glob\n",
    "import requests\n",
    "import os\n",
    "import io\n",
    "from PIL import Image\n",
    "import hashlib"
   ]
  },
  {
   "cell_type": "code",
   "execution_count": 72,
   "metadata": {},
   "outputs": [],
   "source": [
    "driver_path = 'C:/games/chromedriver'\n",
    "\n",
    "web_driv = webdriver.Chrome(executable_path = driver_path)"
   ]
  },
  {
   "cell_type": "code",
   "execution_count": 73,
   "metadata": {},
   "outputs": [],
   "source": [
    "search_url = f\"https://www.google.com/search?safe=off&site=&tbm=isch&source=hp&q=Dogs&oq=Dog&gs_l=img\"\n"
   ]
  },
  {
   "cell_type": "code",
   "execution_count": 74,
   "metadata": {},
   "outputs": [],
   "source": [
    "web_driv.get(search_url)"
   ]
  },
  {
   "cell_type": "code",
   "execution_count": 75,
   "metadata": {},
   "outputs": [],
   "source": [
    "image_urls = set()\n",
    "image_count = 0\n",
    "number_results = 0"
   ]
  },
  {
   "cell_type": "code",
   "execution_count": 76,
   "metadata": {},
   "outputs": [],
   "source": [
    "def scroll_to_end(web_driv, scroll_point):\n",
    "    web_driv.execute_script(f\"window.scrollTo(0, {scroll_point});\")\n",
    "    time.sleep(1)\n"
   ]
  },
  {
   "cell_type": "code",
   "execution_count": 78,
   "metadata": {},
   "outputs": [
    {
     "data": {
      "text/plain": [
       "9"
      ]
     },
     "execution_count": 78,
     "metadata": {},
     "output_type": "execute_result"
    }
   ],
   "source": [
    "number_results"
   ]
  },
  {
   "cell_type": "code",
   "execution_count": 77,
   "metadata": {
    "scrolled": true
   },
   "outputs": [
    {
     "name": "stdout",
     "output_type": "stream",
     "text": [
      "<selenium.webdriver.remote.webelement.WebElement (session=\"3ed1bd2f61d0d2b724849f2ca26e2ff6\", element=\"b97c3a82-d26e-44c9-8573-8f74cd7a543f\")>\n",
      "https://www.google.com/logos/doodles/2020/wear-a-mask-save-lives-sep-16-17-6753651837108822.2-s.png\n",
      "<selenium.webdriver.remote.webelement.WebElement (session=\"3ed1bd2f61d0d2b724849f2ca26e2ff6\", element=\"62c5c400-9a87-49a9-8822-15dfd5f76eae\")>\n",
      "data:image/jpeg;base64,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\n",
      "<selenium.webdriver.remote.webelement.WebElement (session=\"3ed1bd2f61d0d2b724849f2ca26e2ff6\", element=\"17fa2d70-7c62-4da1-ac3c-0d87886521ef\")>\n",
      "data:image/jpeg;base64,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\n"
     ]
    },
    {
     "name": "stdout",
     "output_type": "stream",
     "text": [
      "<selenium.webdriver.remote.webelement.WebElement (session=\"3ed1bd2f61d0d2b724849f2ca26e2ff6\", element=\"8bf33dcc-4a66-4126-9996-b5044fe6d648\")>\n",
      "data:image/jpeg;base64,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\n",
      "<selenium.webdriver.remote.webelement.WebElement (session=\"3ed1bd2f61d0d2b724849f2ca26e2ff6\", element=\"f5554143-2660-4f5e-8dac-bef083d1a055\")>\n",
      "data:image/jpeg;base64,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\n",
      "<selenium.webdriver.remote.webelement.WebElement (session=\"3ed1bd2f61d0d2b724849f2ca26e2ff6\", element=\"dbb84273-2936-4556-ac43-b469493ac185\")>\n",
      "data:image/jpeg;base64,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\n"
     ]
    },
    {
     "name": "stdout",
     "output_type": "stream",
     "text": [
      "<selenium.webdriver.remote.webelement.WebElement (session=\"3ed1bd2f61d0d2b724849f2ca26e2ff6\", element=\"4d2fbae7-31e8-4db7-81b6-e60b7189b4b3\")>\n",
      "data:image/jpeg;base64,/9j/4AAQSkZJRgABAQAAAQABAAD/2wCEAAkGBwgHBgkIBwgKCgkLDRYPDQwMDRsUFRAWIB0iIiAdHx8kKDQsJCYxJx8fLT0tMTU3Ojo6Iys/RD84QzQ5OjcBCgoKDQwNGg8PGjclHyU3Nzc3Nzc3Nzc3Nzc3Nzc3Nzc3Nzc3Nzc3Nzc3Nzc3Nzc3Nzc3Nzc3Nzc3Nzc3Nzc3N//AABEIAGQAZAMBIgACEQEDEQH/xAAaAAEAAwEBAQAAAAAAAAAAAAAAAQIEAwUG/8QALRAAAgEDAwMCBAcBAAAAAAAAAAECAwQRBRIhMUFhE1EGInGBFSMzQoKx0RT/xAAZAQEAAwEBAAAAAAAAAAAAAAAAAQMEBQL/xAAhEQEAAgICAgIDAAAAAAAAAAAAAQIDEQQhEjEyUSIjQf/aAAwDAQACEQMRAD8A+0GSrZGTS4C+RkoAL5BUkCQAAAAAAAAABQknASAmnBzmoruaoWtKrLEJtY6+TlbcVV9C+m2ULJ1p7nKVSbny3xnsijJeYnp0OJhpekzaG2GnUMLLbZSrY0IrO9xS5Z3dXC8GO8pU7+3lSq52SXZtf0V+dmyePi+mWfpyblReYZwmVFtbK1tYUYr5IvC+hfBopMzXtyc9YrkmIcwSyD2pAAAAAEoAZCGizhuqNvsjXVt/UhJRqypyaaUlhuL9+TJZt7pfQ7V5TUcxljHbBly/J1+HH602NtK20+lQvLuV1XS+atNKLm8+yMGk6fDT7adGd5dXTdSUlO4qbpRT6RXhHgfFOifi+u6fqCrVqat9qqU1PCkovcvpz7dT21UdetvT2+Dw07em4L05LPbJkZ3ipbHzngyNmjF6czmfOEsggFrGAAAAAKsEtFQhssekn9ja4KS5WTLZrbTXl5NmXgy5J3Z2eNGsUM87aM3yu5zjawhylhl51nHPHK9u5SdZtcLJWv267UovbxweblqTTPSgm4J+551Zba0l5NGJzuZHqQDgFzCAAACSAJaEIZmkWZR1FB5ZEke2/hYS6I1xw4LKPN9TK3J9TdSlmiuTH/XcpO46YL2ag5JdcZSKyqr8uOeWzxfibU42Fbe+Xh4Xky2usKtSo1nJJMhE20+5hGPprC7HlX0dtw/KPQsKyq0IS90ZdSX5sXjsXYp7Ucuu8e2NEkoNYNDloAAEggBJ9zlVTkuMHbaNhCPFkjK4TjSjGMm3hc4PYddQhGKfjnwYXST6nOVnTlnc6j5z+pL/AEptSZncN/HzxSNW7fH/ABfTr6jqLp2jeIcSzHKb8GKy0fU4YzKn6fXa0z73/lpp/LBLPU6Qt4r9qJjHCu2fJM9SzaDd1KCjRuWllYTS4R71b061Nwl1xnPsYadOKXQt6VLvTg/4oiad9Lacj8fG8bcFBxnKOU8PGUS0d1FLhJJeCskXMMx304EFpIqS8gAAuSAQ9QkEgPcBeJAIS6JEgAVZV9ACXlzkc2AHiQAEof/Z\n",
      "<selenium.webdriver.remote.webelement.WebElement (session=\"3ed1bd2f61d0d2b724849f2ca26e2ff6\", element=\"8f1b7ccd-1d77-4247-870a-15201c07dc60\")>\n",
      "data:image/jpeg;base64,/9j/4AAQSkZJRgABAQAAAQABAAD/2wCEAAkGBwgHBgkIBwgKCgkLDRYPDQwMDRsUFRAWIB0iIiAdHx8kKDQsJCYxJx8fLT0tMTU3Ojo6Iys/RD84QzQ5OjcBCgoKDQwNGg8PGjclHyU3Nzc3Nzc3Nzc3Nzc3Nzc3Nzc3Nzc3Nzc3Nzc3Nzc3Nzc3Nzc3Nzc3Nzc3Nzc3Nzc3N//AABEIAGQAZAMBIgACEQEDEQH/xAAcAAABBQEBAQAAAAAAAAAAAAAGAAMEBQcCAQj/xAA+EAABAwMDAgMGAggDCQAAAAABAgMEAAURBhIhMUETInEHFVFhgdEUsSMyVZGUocHhFiVSJDNCVHKChJOy/8QAGQEBAAMBAQAAAAAAAAAAAAAAAgEDBAAF/8QAJBEAAgICAQQDAAMAAAAAAAAAAQIAAxESMRMhQVEEIkIFYZH/2gAMAwEAAhEDEQA/AL8OblpT2PanlOArw4pQSnoKYaYWxIT452r7J608sNKSUqBLh5yO1eQpBmhhHWHGytODzkYNWFxWZaSUpzjjNVUJgqe4HQ1Yh9pMNYSUpWFHr1NceYMd5DYirUAf1asI0cpcDasZJ7nrVYl1aTncTXkye7KKcgJKO6aTbHtJxCGY57tjLXGKFLH62e3pVIm5STvdcUHEqHKSOlNwYb9xSsBasIPIJ61zIhSIrxb8pKeCKz6LxyZOuIocaTPd3PJ/QNc8dDTiou64FLCPIhPlNWFvuVuRBXvlsoUEkONpWCQRUZOo7LGQlDTm4pH6xBNA1/IJ+imLqAeYzHgOw5YWSCVnB56Cp8yzOJy404kHuD3rhu4NuAvMKQttXOR3q1bU1MZ86lIBH6p4xQ+5HTcd5YGHMrQlafKcZHwpU/5G/K2kFI4BJpUttexkZgTf9Sx7YtXiuokTgQkNJ52+v76oJ2qpHAWpLK1c4Rxj60KKbebum9aXFvrmK3pxkgAKJ4+R/KuJ0eXPW0hDQy66S2oq5CcfLtXv00pWowO8yM5YwiF/uG4mPPcCiOgcPPqK9hasvDMhlhTIl5UQsKPI/wC7sKHlW+4WxTrLobXv2q8TOCMdvQ5qKp6QHXJGUpbAIwDwSkZP05H76tIVuRAMjiatG1dbi64lsFx1GcoBBHHfPwrpetoCHt6LSSrIPldxn6YxWdWqPIdZUzb0IL6WfHXlWNwHX6801apcy7yfw8RhK1bC4o5xhI6mqTTR5EeXM12z6wtplZLqWFudUL6jPTIoe9qOrJC7km2WpICQ0kvvp4KgcnAI+AFZ1JGHm3214U6PLg8muGJ7srxDKClOobyFnsMf0or8WpX3Egsx7S9sKnCw2IwU9LkglO49T1IGaiN3J+bMTEjsFUpxewJCgTu7/kabt8FUpSkQlvFLSDtdCtuxOMZyOR8eD3qR7qhCOwYf4lmVuyiQcpCj8j8/lWjZvBkajyIpNymRltIbecSUr2qTnuP71p2hNXDUEAsSm9smKkJK8/71PTPyPyrHFqUmYltbqtzLuVoXwc5wfzBol0o45bGJ0xDSip9BSxzgfH88Vn+WA1XfmJAdvrNHn6qs8GQY78tCXEdUjnHrilWGqL7zi1hawonz8dVUqpH8dV5kG1prHtDZgR5rV1jBLUrapncB5NyklIUr5gHGaontNu260lx5xPiN4cJQogOJPbOMjt2oi13NgPaaU55ip7bsWOBu65oIuGoky7LEY96iMttAZdbLZXuxgZB6jiq/jNZ0h/k0gIxwY7bIrdyYlLwW0kBLbK3isp+eTihibFRbLkbe+8HGXHElzB6ZIzg+n5VJTJjMkA3cobVwpDBVyPnmqW7Sm5k1TrSFNtYAQlXXAGOa1KWZv6hfRVHuFb9oCvxnhx3mWmFkJdK1AhBPAx06cUz7siFTXu5xzxsYWlLm3eO4yDRpZbpb7homKJr6dyI4ZdQ4oBSlJ4zz8sVUadcZemuPz7l+IkNgpj5WPIn+/wAajrYByOJPQyRgwTVFbf8AHcClNmIpCkNk5ySrB/lVxaLc2zpG5XFbwTIeSGh38NORkH1/pXmubhH8ViHEUjCBukbceZR7fOh1ia81BfihRKXik7fTvTG1i54lVgCNgTXdKi3jTjMh1MaOdqkPkYG4DgHn4ihy2PtSL0USJu6IkqLCC6doPbbng/TpVTp/VUJFpNovENL7IVvSTxg96je9NOpWpQjSlhJylC18etZmWxSQAZrD1soyZYa9t8eO+3L2APuoy6oKxxkgcfQURaHXEuVvUl8gORikIRjhSfjWd6hvar5IZUiMGo7KAhCQOcCrXS1xEKJc0JV4byop8PB69cirGpL06tzM1lg6mVnGo1R371LcgJbbaUsnGeCruRz3r2h8qWvzFYz3zSrYn0UKPEpyIRS7q7J03BjOubkNrOxJ56D+9CzyEyXFuNNuKwOQEmiXQFxiR7m2Lnt/DDcDv/VGeuaIrlrizW+8ORIluiPwtuPHYIPJ/kazlih1US1VVhkmZg3HceP6NtSv+kE122wrdgoPB5GKLdP6ti267yFrt6FRnXSrCTylPYDj0ouGptIy4kt1vZHeAOEeGN5PxA71zWsv5nLWreZlhcfaBQ0so3HoO9dMXabHz+opQ6KW2CRRpZVWVVjf/G7VOuOr2KcSArjpx2pzSWm7BPaC5zu59WMNrV0+9FrF7lljVGyNTM/LipLynHnCpSjk57mpqMJUTg8J6DrR/q6wadsFrDzEZC3nTtb2qzz8etBNrmJiXZh1afLnnJ4p12B12Agsr1bBMq2UuOPFCWlqJz5Qk5ArwNqKtqUkc9hmtce1JpOE+hRDXirGHC0B5PjuxVXeV2kX+NLbioDJO0qB8qk4JzigtzH8xtQo/Uz5CVZIBKgOwFdBxSXAkDg8cVsEGdpieoNNLjMrVxtUgJz9azDWT8Q3p0w2A0kKHAxg478fGlXcWOCMQvSEG2ZVvJSXCeea9o5sDembjbG3psVxEgeRfhg4JHfgUq43YOMSRST5gFFSCy4eRzgYpsRyyoqWngA4Bok0bZHLkwy8tB/DmQUqXjpjFXftStdutzUSRFR4T7qthSDwpIHX8qRtGwWAVEqWgCcHxNvRSRkjtXbEbalK1g+YZHpUvTFtcvV5i2xs4MhzC1/6Wxyo+uAfrir7WsX/ADd4QoxbitANtIQOAAMUiw2xCFJGYOYV4hU3zsGfSvWbotnZtWfKdyT8K0L2d2RlVlkTJLW9byyPMOiRWe3SAJOpVW21Nklx4NNo+Z61WtqsxX1LDWVUN7kmYy+HwuUtSi6gOJ3fA9xUCQ7/ALShIAxg/SjzXNtdkXgNwmCWo7KWEkJ4OOM1nsxKkXAtYG5tW04+PerEYEQOpBicZUoqITx6V2Jb/hhC3VEIGACehrUPZ3piJMjPybhHCwR4YSr596B9Z2aPatRyYEMnwkAKG45xnmgtqlyoiNZChjKdlDkjCecdxn4V65H8MKyMnFF/sstrE/UrhlNhxtiMpYBHGTgDP76ZvGmZjb05xLWGmApWT0IHwpbqG1h0JXIgyEeVOFHp8SKVSIrJVGaUUHzJBHHalSyINWmt+zi0otelGBOAQ888p9KFHzAHAHHbgA/Wgv2wOhV2hNJVnYyVqGem48f/ACa0xrTtvaK1F+WsqVvOXRjP7qhTdCWO6yTKlpl+KUhPD+MAduleYtirZuTPWeljXqJnvsjjpcv0mavhEWMQT81nA59Aqj3VTXhWWSqCEqcWgobx/rVwKlQND2W2xlR4v4xDaySv9OMqyMcnHbt8KkMaXt8dO1uVcdvPlVI3D+Yo23K77AzqqSiakSBZIDVl08YyFFZbQVrOc5Vjms39l8FyfrRFyWghmOFyFqHQKIISnPqrP0rWZGn7e/GMdx6bgpxuS6Ar1zjrXdos1us8BuDAQ620j/i3Dcr5k45NQl+qt7MT0FmHoRS22IsN+QlZ8NIK1En618/PJdU/IdWjap1SlZzk56n86+hZFrjyG3W3XpRacaLam94xg9T060Mseziwtym31PXB0tq3BDjiCknryNnxqaLlQHYyLqGfGBLzSKVNaXtqpR2vux0EpPXpWY+1BpQ1U6pCMgMNkqFajHsERhG1EqZnIO4ugnj6fOqu/aEt19nCXImz0OBsNnw1IwQPVNdVcq2FiZFlLNWFAgR7IVn/ABBcACQEw+R896a0HVSPG0xclMlSz+HX5ByTx8KWnNEWuwoeEV+Wtbxyt1wp3EAcDgDjPNSxpKI2SpqbOStakqUsKBJx29K62xXs2BkVoyV6mUGhrH4el4SbkwhEgBWUuAbkjccA/SlRcmzR0JCWX3koGeCc9Tk15VbOSScxqoAxPmr3hNPWbJPq8r704Lrch0uU0ekhf3pUq9QgTBkz331dv2pO/iV/ekbzdf2pO/iV/elSrtR6nZMXvm6/tSd/Er+9L31dv2pO/iV/elSqNR6nbGL33d/2rP8A4pf3rti+Xjxkj3tcOT/zS/vSpV2oxxO2OZ2u/XkOnF3uI/8ALc+9dOX+9b+LxcU+kpY/rSpUdR6jLHBjp1HfUoRtvVxHpKX96kNaov6Y3F6uBOepkKJ/OlSolVxxHsc8xf4v1Jx/nc7/ANppUqVdqPUjY+5//9k=\n",
      "<selenium.webdriver.remote.webelement.WebElement (session=\"3ed1bd2f61d0d2b724849f2ca26e2ff6\", element=\"0e427402-5e96-4255-b528-94ca26301810\")>\n",
      "data:image/jpeg;base64,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\n"
     ]
    },
    {
     "ename": "KeyboardInterrupt",
     "evalue": "",
     "output_type": "error",
     "traceback": [
      "\u001b[1;31m---------------------------------------------------------------------------\u001b[0m",
      "\u001b[1;31mKeyboardInterrupt\u001b[0m                         Traceback (most recent call last)",
      "\u001b[1;32m<ipython-input-77-58aac5fb91f0>\u001b[0m in \u001b[0;36m<module>\u001b[1;34m\u001b[0m\n\u001b[0;32m      9\u001b[0m             \u001b[0mimage_count\u001b[0m \u001b[1;33m=\u001b[0m \u001b[0mlen\u001b[0m\u001b[1;33m(\u001b[0m\u001b[0mimage_urls\u001b[0m\u001b[1;33m)\u001b[0m\u001b[1;33m\u001b[0m\u001b[1;33m\u001b[0m\u001b[0m\n\u001b[0;32m     10\u001b[0m             \u001b[0mnumber_results\u001b[0m \u001b[1;33m=\u001b[0m \u001b[0mimage_count\u001b[0m\u001b[1;33m\u001b[0m\u001b[1;33m\u001b[0m\u001b[0m\n\u001b[1;32m---> 11\u001b[1;33m             \u001b[0mtime\u001b[0m\u001b[1;33m.\u001b[0m\u001b[0msleep\u001b[0m\u001b[1;33m(\u001b[0m\u001b[1;36m.5\u001b[0m\u001b[1;33m)\u001b[0m\u001b[1;33m\u001b[0m\u001b[1;33m\u001b[0m\u001b[0m\n\u001b[0m\u001b[0;32m     12\u001b[0m         \u001b[0mprint\u001b[0m\u001b[1;33m(\u001b[0m\u001b[1;34mf\"Found: {number_results} search results. Extracting links...\"\u001b[0m\u001b[1;33m)\u001b[0m\u001b[1;33m\u001b[0m\u001b[1;33m\u001b[0m\u001b[0m\n",
      "\u001b[1;31mKeyboardInterrupt\u001b[0m: "
     ]
    }
   ],
   "source": [
    "for i in range(1,20):\n",
    "        scroll_to_end(web_driv, i*100)\n",
    "        time.sleep(5)\n",
    "        thumb = web_driv.find_elements_by_css_selector(\"img\")\n",
    "        for img in thumb:\n",
    "            print(img)\n",
    "            print(img.get_attribute('src'))\n",
    "            image_urls.add(img.get_attribute('src'))\n",
    "            image_count = len(image_urls)\n",
    "            number_results = image_count\n",
    "            time.sleep(.5)\n",
    "        print(f\"Found: {number_results} search results. Extracting links...\")\n"
   ]
  },
  {
   "cell_type": "code",
   "execution_count": 9,
   "metadata": {},
   "outputs": [],
   "source": [
    "folder_path = 'C:/games/Scraper/'\n",
    "i=0"
   ]
  },
  {
   "cell_type": "code",
   "execution_count": 24,
   "metadata": {
    "scrolled": false
   },
   "outputs": [
    {
     "name": "stdout",
     "output_type": "stream",
     "text": [
      "Successfully downloaded\n",
      "Couldnt be saved\n",
      "Successfully downloaded and Saved\n",
      "Successfully downloaded and Saved\n",
      "Successfully downloaded\n",
      "Couldnt be saved\n",
      "Successfully downloaded\n",
      "Couldnt be saved\n",
      "Successfully downloaded and Saved\n",
      "Successfully downloaded and Saved\n",
      "Successfully downloaded and Saved\n",
      "Successfully downloaded\n",
      "Couldnt be saved\n",
      "Successfully downloaded\n",
      "Couldnt be saved\n",
      "Successfully downloaded and Saved\n",
      "Successfully downloaded and Saved\n",
      "Successfully downloaded and Saved\n",
      "Successfully downloaded\n",
      "Couldnt be saved\n",
      "Successfully downloaded and Saved\n",
      "Successfully downloaded\n",
      "Couldnt be saved\n",
      "Successfully downloaded and Saved\n",
      "Successfully downloaded and Saved\n",
      "Successfully downloaded and Saved\n",
      "Successfully downloaded and Saved\n",
      "Successfully downloaded and Saved\n",
      "Successfully downloaded and Saved\n",
      "Successfully downloaded\n",
      "Couldnt be saved\n",
      "Successfully downloaded\n",
      "Couldnt be saved\n",
      "Successfully downloaded\n",
      "Couldnt be saved\n",
      "Successfully downloaded\n",
      "Couldnt be saved\n",
      "Successfully downloaded and Saved\n",
      "Successfully downloaded\n",
      "Couldnt be saved\n",
      "Successfully downloaded and Saved\n",
      "Successfully downloaded\n",
      "Couldnt be saved\n",
      "Successfully downloaded and Saved\n",
      "Successfully downloaded\n",
      "Couldnt be saved\n",
      "Successfully downloaded\n",
      "Couldnt be saved\n",
      "Successfully downloaded and Saved\n",
      "Successfully downloaded and Saved\n",
      "Successfully downloaded\n",
      "Couldnt be saved\n",
      "Successfully downloaded\n",
      "Couldnt be saved\n",
      "Successfully downloaded\n",
      "Couldnt be saved\n",
      "Successfully downloaded and Saved\n",
      "Successfully downloaded and Saved\n",
      "Successfully downloaded and Saved\n",
      "Successfully downloaded and Saved\n",
      "Successfully downloaded and Saved\n",
      "Successfully downloaded and Saved\n",
      "Successfully downloaded and Saved\n",
      "Successfully downloaded and Saved\n",
      "Successfully downloaded and Saved\n",
      "Successfully downloaded and Saved\n",
      "Successfully downloaded\n",
      "Couldnt be saved\n",
      "Successfully downloaded and Saved\n",
      "Successfully downloaded and Saved\n",
      "Successfully downloaded\n",
      "Couldnt be saved\n"
     ]
    }
   ],
   "source": [
    "for urls in image_urls:\n",
    "    try:\n",
    "        image_content = requests.get(urls).content\n",
    "        print(\"Successfully downloaded\")   \n",
    "        try:\n",
    "            image_file = io.BytesIO(image_content)\n",
    "            image = Image.open(image_file).convert('RGB')\n",
    "            file_path=os.path.join(folder_path,hashlib.sha1(image_content).hexdigest()[:10]+'.jpg')\n",
    "            with open(file_path , 'wb') as f:\n",
    "                image.save(f, \"JPEG\", quality=85)\n",
    "                print('Successfully Saved')\n",
    "        except Exception as e:\n",
    "            print(\"Couldnt be saved\")\n",
    "        \n",
    "        \n",
    "    except Exception as e:\n",
    "        try:\n",
    "            urls = urls.split(',')[1]\n",
    "            base64_bytes = urls.encode('ascii')\n",
    "            imgdata = base64.b64decode(urls)\n",
    "            filename = f'{folder_path}/{hashlib.sha1(base64_bytes).hexdigest()[:10]}.jpg'\n",
    "            with open(filename, 'wb') as f:\n",
    "                f.write(imgdata)\n",
    "                print(\"Successfully downloaded and Saved\")      \n",
    "            \n",
    "        except Exception as e:\n",
    "            print(\"Cannot Download\")           \n",
    "    "
   ]
  },
  {
   "cell_type": "code",
   "execution_count": 11,
   "metadata": {},
   "outputs": [],
   "source": [
    "web_driv.quit()"
   ]
  },
  {
   "cell_type": "code",
   "execution_count": null,
   "metadata": {},
   "outputs": [],
   "source": [
    " try:\n",
    "        image_file = io.BytesIO(image_content)\n",
    "        image = Image.open(image_file).convert('RGB')\n",
    "        file_path = os.path.join(folder_path,hashlib.sha1(image_content).hexdigest()[:10] + '.jpg')\n",
    "        with open(file_path, 'wb') as f:\n",
    "            image.save(f, \"JPEG\", quality=85)\n",
    "        print(\"Succesfully Saved\")\n",
    "    except Exception as e:\n",
    "        print(\"ERROR - Could not save\")\n",
    "        "
   ]
  },
  {
   "cell_type": "code",
   "execution_count": 55,
   "metadata": {},
   "outputs": [],
   "source": [
    "Dir = \"C:/games/Scraper/*.jpg\"\n",
    "\n",
    "tranning_data=[]\n",
    "\n",
    "for img in glob.glob(Dir):\n",
    "    try:\n",
    "        img_array = cv2.imread(img , cv2.IMREAD_GRAYSCALE)\n",
    "        new_img_array = cv2.resize(img_array,(100,100))\n",
    "        tranning_data.append([new_img_array,\"DOG\"])\n",
    "    except:\n",
    "        pass"
   ]
  },
  {
   "cell_type": "code",
   "execution_count": 60,
   "metadata": {},
   "outputs": [
    {
     "data": {
      "text/plain": [
       "[[array([[206, 206, 206, ..., 206, 206, 206],\n",
       "         [206, 206, 206, ..., 206, 206, 206],\n",
       "         [206, 206, 206, ..., 205, 205, 205],\n",
       "         ...,\n",
       "         [184, 184, 185, ..., 166, 168, 173],\n",
       "         [185, 186, 187, ..., 162, 164, 172],\n",
       "         [190, 190, 193, ..., 160, 162, 173]], dtype=uint8), 'DOG'],\n",
       " [array([[ 79,  79,  79, ..., 101, 101, 100],\n",
       "         [ 78,  78,  78, ..., 101, 101, 100],\n",
       "         [ 77,  77,  77, ..., 100, 100,  99],\n",
       "         ...,\n",
       "         [204, 204, 204, ..., 210, 210, 210],\n",
       "         [205, 205, 205, ..., 210, 210, 210],\n",
       "         [206, 206, 206, ..., 210, 210, 210]], dtype=uint8), 'DOG'],\n",
       " [array([[ 72,  54,  52, ...,  38,  44,  40],\n",
       "         [ 76,  64,  63, ...,  37,  43,  41],\n",
       "         [ 80,  78,  75, ...,  35,  42,  42],\n",
       "         ...,\n",
       "         [186, 196, 193, ..., 189, 183, 194],\n",
       "         [189, 194, 206, ..., 186, 192, 196],\n",
       "         [195, 194, 208, ..., 188, 178, 198]], dtype=uint8), 'DOG'],\n",
       " [array([[203, 206, 208, ..., 204, 203, 201],\n",
       "         [205, 208, 210, ..., 206, 204, 202],\n",
       "         [208, 211, 214, ..., 207, 205, 204],\n",
       "         ...,\n",
       "         [155, 153, 160, ..., 177, 171, 165],\n",
       "         [128, 144, 156, ..., 171, 163, 164],\n",
       "         [128, 138, 145, ..., 167, 166, 132]], dtype=uint8), 'DOG'],\n",
       " [array([[209, 211, 211, ..., 227, 227, 227],\n",
       "         [208, 209, 210, ..., 227, 227, 227],\n",
       "         [205, 206, 207, ..., 227, 227, 227],\n",
       "         ...,\n",
       "         [180, 180, 180, ..., 210, 210, 210],\n",
       "         [180, 180, 180, ..., 210, 210, 210],\n",
       "         [184, 184, 184, ..., 210, 209, 208]], dtype=uint8), 'DOG'],\n",
       " [array([[185, 196, 208, ..., 231, 232, 232],\n",
       "         [185, 197, 209, ..., 231, 232, 232],\n",
       "         [186, 198, 209, ..., 232, 232, 232],\n",
       "         ...,\n",
       "         [126, 121, 117, ..., 118, 120, 118],\n",
       "         [129, 125, 120, ..., 117, 121, 118],\n",
       "         [124, 122, 121, ..., 119, 119, 119]], dtype=uint8), 'DOG'],\n",
       " [array([[238, 238, 233, ..., 163, 165, 166],\n",
       "         [202, 195, 191, ..., 135, 148, 162],\n",
       "         [167, 167, 173, ..., 145, 147, 151],\n",
       "         ...,\n",
       "         [254, 254, 251, ..., 244, 245, 245],\n",
       "         [238, 243, 223, ..., 231, 234, 235],\n",
       "         [115, 133, 106, ..., 237, 241, 243]], dtype=uint8), 'DOG'],\n",
       " [array([[255, 250, 247, ...,  89,  90,  90],\n",
       "         [255, 252, 249, ..., 100,  99,  97],\n",
       "         [255, 251, 247, ..., 117, 112, 107],\n",
       "         ...,\n",
       "         [107, 109, 114, ...,  93,  92,  98],\n",
       "         [112, 116, 123, ...,  89,  94, 103],\n",
       "         [111, 117, 126, ...,  86,  98, 111]], dtype=uint8), 'DOG'],\n",
       " [array([[254, 254, 254, ..., 254, 254, 254],\n",
       "         [254, 254, 254, ..., 254, 254, 254],\n",
       "         [254, 254, 254, ..., 254, 254, 254],\n",
       "         ...,\n",
       "         [254, 254, 254, ..., 254, 254, 254],\n",
       "         [254, 254, 254, ..., 254, 254, 254],\n",
       "         [254, 254, 254, ..., 254, 254, 254]], dtype=uint8), 'DOG'],\n",
       " [array([[ 96,  93,  85, ...,  16,  17,  20],\n",
       "         [ 99,  93,  84, ...,  21,  23,  24],\n",
       "         [103,  94,  83, ...,  34,  38,  35],\n",
       "         ...,\n",
       "         [160, 164, 167, ..., 172, 170, 170],\n",
       "         [164, 168, 171, ..., 170, 169, 169],\n",
       "         [159, 163, 166, ..., 169, 168, 168]], dtype=uint8), 'DOG'],\n",
       " [array([[207, 210, 189, ...,  35,  41,  40],\n",
       "         [223, 182, 174, ...,  38,  39,  34],\n",
       "         [201, 167, 166, ...,  40,  31,  36],\n",
       "         ...,\n",
       "         [ 52,  56,  59, ...,  48,  45,  30],\n",
       "         [ 53,  57,  49, ...,  47,  59,  34],\n",
       "         [ 50,  46,  45, ...,  40,  47,  32]], dtype=uint8), 'DOG'],\n",
       " [array([[ 25,  52,  41, ..., 226, 229, 235],\n",
       "         [ 68,  72,  56, ..., 198, 211, 212],\n",
       "         [ 12,  13,  32, ..., 200, 199, 215],\n",
       "         ...,\n",
       "         [114, 108, 110, ..., 175, 175, 189],\n",
       "         [131, 122, 115, ..., 168, 180, 184],\n",
       "         [126, 125, 113, ..., 190, 185, 178]], dtype=uint8), 'DOG'],\n",
       " [array([[ 94,  94,  95, ...,  88,  88,  88],\n",
       "         [ 95,  95,  96, ...,  88,  88,  89],\n",
       "         [ 97,  97,  97, ...,  89,  89,  89],\n",
       "         ...,\n",
       "         [127, 123, 112, ...,   1,   2,   2],\n",
       "         [127, 107,  96, ...,   1,   1,   2],\n",
       "         [ 98, 100,  92, ...,   0,   1,   1]], dtype=uint8), 'DOG'],\n",
       " [array([[255, 255, 255, ..., 255, 255, 255],\n",
       "         [255, 255, 255, ..., 255, 255, 255],\n",
       "         [255, 255, 255, ..., 255, 255, 255],\n",
       "         ...,\n",
       "         [255, 255, 255, ..., 255, 255, 255],\n",
       "         [255, 255, 255, ..., 255, 255, 255],\n",
       "         [255, 255, 255, ..., 255, 255, 255]], dtype=uint8), 'DOG'],\n",
       " [array([[167, 166, 165, ..., 214, 214, 216],\n",
       "         [167, 166, 165, ..., 214, 215, 216],\n",
       "         [167, 166, 165, ..., 214, 214, 216],\n",
       "         ...,\n",
       "         [232, 232, 232, ..., 221, 221, 222],\n",
       "         [233, 233, 233, ..., 221, 221, 223],\n",
       "         [232, 231, 231, ..., 223, 223, 223]], dtype=uint8), 'DOG'],\n",
       " [array([[187, 187, 187, ..., 187, 187, 187],\n",
       "         [187, 187, 187, ..., 187, 187, 187],\n",
       "         [187, 187, 187, ..., 187, 187, 187],\n",
       "         ...,\n",
       "         [190, 190, 190, ..., 188, 188, 188],\n",
       "         [190, 190, 190, ..., 188, 188, 188],\n",
       "         [190, 190, 190, ..., 188, 188, 188]], dtype=uint8), 'DOG'],\n",
       " [array([[253, 253, 255, ..., 255, 255, 255],\n",
       "         [255, 251, 255, ..., 255, 255, 255],\n",
       "         [255, 251, 250, ..., 255, 255, 255],\n",
       "         ...,\n",
       "         [255, 255, 255, ..., 255, 255, 255],\n",
       "         [255, 255, 255, ..., 255, 255, 255],\n",
       "         [255, 255, 255, ..., 255, 255, 255]], dtype=uint8), 'DOG'],\n",
       " [array([[236, 235, 235, ..., 158, 157, 159],\n",
       "         [236, 236, 235, ..., 150, 153, 158],\n",
       "         [236, 236, 235, ..., 159, 163, 169],\n",
       "         ...,\n",
       "         [123, 116, 142, ...,  91,  91,  90],\n",
       "         [127, 118, 139, ...,  92,  92,  91],\n",
       "         [145, 130, 136, ...,  81,  83,  86]], dtype=uint8), 'DOG'],\n",
       " [array([[ 54,  53,  50, ...,  60,  47,  40],\n",
       "         [ 65,  59,  52, ...,  67,  60,  56],\n",
       "         [ 70,  61,  53, ...,  69,  66,  65],\n",
       "         ...,\n",
       "         [140, 132, 143, ..., 153, 149, 158],\n",
       "         [147, 130, 132, ..., 148, 144, 146],\n",
       "         [147, 129, 129, ..., 171, 174, 180]], dtype=uint8), 'DOG'],\n",
       " [array([[ 12,  12,  12, ...,  12,  12,  12],\n",
       "         [ 12,  12,  12, ...,  12,  12,  12],\n",
       "         [ 12,  12,  12, ...,  12,  12,  12],\n",
       "         ...,\n",
       "         [149, 129, 145, ..., 195, 193, 200],\n",
       "         [157, 136, 127, ..., 138, 132, 150],\n",
       "         [123, 106,  80, ..., 108, 117, 170]], dtype=uint8), 'DOG'],\n",
       " [array([[213, 207, 203, ..., 167, 165, 163],\n",
       "         [210, 205, 200, ..., 168, 166, 163],\n",
       "         [205, 200, 196, ..., 168, 167, 164],\n",
       "         ...,\n",
       "         [ 34,  35,  37, ..., 121, 122, 122],\n",
       "         [ 33,  34,  36, ..., 121, 122, 123],\n",
       "         [ 32,  34,  35, ..., 121, 122, 123]], dtype=uint8), 'DOG'],\n",
       " [array([[155, 158, 161, ..., 113, 110, 107],\n",
       "         [148, 147, 145, ..., 122, 121, 120],\n",
       "         [147, 141, 134, ..., 128, 129, 130],\n",
       "         ...,\n",
       "         [176, 178, 181, ..., 174, 173, 173],\n",
       "         [177, 178, 181, ..., 175, 175, 175],\n",
       "         [178, 179, 181, ..., 177, 177, 176]], dtype=uint8), 'DOG'],\n",
       " [array([[137, 140, 139, ...,  83,  90,  89],\n",
       "         [136, 137, 141, ..., 118, 119, 121],\n",
       "         [143, 142, 154, ..., 142, 135, 132],\n",
       "         ...,\n",
       "         [132, 159, 184, ..., 129, 184, 180],\n",
       "         [164, 166, 157, ..., 108, 146, 152],\n",
       "         [163, 151, 157, ..., 136, 154, 136]], dtype=uint8), 'DOG'],\n",
       " [array([[197, 213, 213, ..., 147, 158, 163],\n",
       "         [169, 186, 156, ..., 109, 134, 151],\n",
       "         [194, 224, 226, ...,  99, 135, 159],\n",
       "         ...,\n",
       "         [126, 129, 129, ..., 105, 111, 124],\n",
       "         [126, 122, 117, ..., 104, 110, 123],\n",
       "         [126, 117, 108, ..., 104, 109, 122]], dtype=uint8), 'DOG'],\n",
       " [array([[114, 116, 109, ..., 202, 206, 215],\n",
       "         [113, 118, 114, ..., 204, 206, 209],\n",
       "         [111, 122, 124, ..., 201, 201, 199],\n",
       "         ...,\n",
       "         [105, 112, 109, ...,  98,  96,  94],\n",
       "         [112, 116, 111, ..., 101,  95,  93],\n",
       "         [114, 115, 108, ...,  99,  89,  92]], dtype=uint8), 'DOG'],\n",
       " [array([[154, 156, 159, ..., 166, 167, 168],\n",
       "         [155, 157, 159, ..., 166, 167, 168],\n",
       "         [155, 158, 160, ..., 166, 167, 168],\n",
       "         ...,\n",
       "         [105, 120, 112, ..., 141, 145, 138],\n",
       "         [134, 133, 121, ..., 134, 140, 132],\n",
       "         [126, 117, 124, ..., 133, 137, 124]], dtype=uint8), 'DOG'],\n",
       " [array([[222, 220, 218, ..., 231, 233, 231],\n",
       "         [222, 220, 218, ..., 230, 232, 231],\n",
       "         [222, 220, 218, ..., 229, 230, 230],\n",
       "         ...,\n",
       "         [234, 234, 234, ..., 241, 241, 245],\n",
       "         [234, 234, 234, ..., 243, 243, 244],\n",
       "         [234, 234, 234, ..., 245, 245, 243]], dtype=uint8), 'DOG'],\n",
       " [array([[111, 100,  97, ...,  40,  36,  38],\n",
       "         [109, 108, 110, ...,  50,  50,  53],\n",
       "         [123, 136, 141, ...,  99,  94, 117],\n",
       "         ...,\n",
       "         [147, 151, 155, ..., 127, 123, 104],\n",
       "         [150, 152, 149, ..., 119, 126, 113],\n",
       "         [158, 153, 157, ..., 122, 119, 113]], dtype=uint8), 'DOG'],\n",
       " [array([[124, 130, 126, ...,   0,   0,   0],\n",
       "         [111, 117, 114, ...,   0,   0,   0],\n",
       "         [ 98, 104, 101, ...,   0,   0,   0],\n",
       "         ...,\n",
       "         [117, 146, 145, ..., 129, 137, 134],\n",
       "         [138, 159, 159, ..., 103, 123, 126],\n",
       "         [162, 151, 151, ..., 117, 127, 145]], dtype=uint8), 'DOG'],\n",
       " [array([[101, 109, 105, ...,  54,  53,  52],\n",
       "         [111, 110, 106, ...,  57,  56,  55],\n",
       "         [120, 117, 109, ...,  60,  59,  58],\n",
       "         ...,\n",
       "         [124, 132, 138, ...,   1,   1,   1],\n",
       "         [135, 138, 137, ...,   1,   1,   1],\n",
       "         [123, 123, 120, ...,   1,   1,   1]], dtype=uint8), 'DOG'],\n",
       " [array([[158, 158, 158, ...,  57,  54,  51],\n",
       "         [150, 150, 150, ...,  54,  52,  49],\n",
       "         [137, 137, 137, ...,  51,  48,  46],\n",
       "         ...,\n",
       "         [115, 111, 162, ..., 130, 133, 137],\n",
       "         [102, 127, 159, ..., 126, 119, 126],\n",
       "         [103, 103, 127, ..., 118, 116, 119]], dtype=uint8), 'DOG'],\n",
       " [array([[245, 245, 245, ..., 244, 244, 244],\n",
       "         [245, 245, 245, ..., 244, 244, 244],\n",
       "         [245, 245, 245, ..., 244, 244, 244],\n",
       "         ...,\n",
       "         [160, 149, 151, ..., 238, 238, 238],\n",
       "         [156, 145, 148, ..., 240, 240, 240],\n",
       "         [153, 142, 145, ..., 241, 241, 241]], dtype=uint8), 'DOG'],\n",
       " [array([[255, 255, 255, ..., 255, 255, 255],\n",
       "         [255, 255, 255, ..., 255, 255, 255],\n",
       "         [255, 255, 255, ..., 255, 255, 255],\n",
       "         ...,\n",
       "         [255, 255, 255, ..., 255, 255, 255],\n",
       "         [255, 255, 255, ..., 255, 255, 255],\n",
       "         [255, 255, 255, ..., 255, 255, 255]], dtype=uint8), 'DOG'],\n",
       " [array([[255, 255, 255, ..., 255, 255, 255],\n",
       "         [255, 255, 255, ..., 255, 255, 255],\n",
       "         [255, 255, 255, ..., 255, 255, 255],\n",
       "         ...,\n",
       "         [255, 255, 255, ..., 255, 255, 255],\n",
       "         [255, 255, 255, ..., 255, 255, 255],\n",
       "         [255, 255, 255, ..., 255, 255, 255]], dtype=uint8), 'DOG']]"
      ]
     },
     "execution_count": 60,
     "metadata": {},
     "output_type": "execute_result"
    }
   ],
   "source": [
    "tranning_data"
   ]
  },
  {
   "cell_type": "code",
   "execution_count": 58,
   "metadata": {},
   "outputs": [
    {
     "data": {
      "text/plain": [
       "<matplotlib.image.AxesImage at 0x238297f45f8>"
      ]
     },
     "execution_count": 58,
     "metadata": {},
     "output_type": "execute_result"
    },
    {
     "data": {
      "image/png": "[encoded data removed]",
      "text/plain": [
       "<Figure size 432x288 with 1 Axes>"
      ]
     },
     "metadata": {
      "needs_background": "light"
     },
     "output_type": "display_data"
    }
   ],
   "source": [
    "new_img_array = cv2.resize(img_array,(100,100))\n",
    "plt.imshow(new_img_array , cmap = 'gray')  "
   ]
  },
  {
   "cell_type": "code",
   "execution_count": 61,
   "metadata": {},
   "outputs": [],
   "source": [
    "X=[]\n",
    "Y=[]\n",
    "for features,labels in tranning_data:\n",
    "    X.append(features)\n",
    "    Y.append(labels)"
   ]
  },
  {
   "cell_type": "code",
   "execution_count": 67,
   "metadata": {},
   "outputs": [
    {
     "data": {
      "text/plain": [
       "['DOG',\n",
       " 'DOG',\n",
       " 'DOG',\n",
       " 'DOG',\n",
       " 'DOG',\n",
       " 'DOG',\n",
       " 'DOG',\n",
       " 'DOG',\n",
       " 'DOG',\n",
       " 'DOG',\n",
       " 'DOG',\n",
       " 'DOG',\n",
       " 'DOG',\n",
       " 'DOG',\n",
       " 'DOG',\n",
       " 'DOG',\n",
       " 'DOG',\n",
       " 'DOG',\n",
       " 'DOG',\n",
       " 'DOG',\n",
       " 'DOG',\n",
       " 'DOG',\n",
       " 'DOG',\n",
       " 'DOG',\n",
       " 'DOG',\n",
       " 'DOG',\n",
       " 'DOG',\n",
       " 'DOG',\n",
       " 'DOG',\n",
       " 'DOG',\n",
       " 'DOG',\n",
       " 'DOG',\n",
       " 'DOG',\n",
       " 'DOG']"
      ]
     },
     "execution_count": 67,
     "metadata": {},
     "output_type": "execute_result"
    }
   ],
   "source": []
  },
  {
   "cell_type": "code",
   "execution_count": null,
   "metadata": {},
   "outputs": [],
   "source": []
  }
 ],
 "metadata": {
  "kernelspec": {
   "display_name": "Python 3",
   "language": "python",
   "name": "python3"
  },
  "language_info": {
   "codemirror_mode": {
    "name": "ipython",
    "version": 3
   },
   "file_extension": ".py",
   "mimetype": "text/x-python",
   "name": "python",
   "nbconvert_exporter": "python",
   "pygments_lexer": "ipython3",
   "version": "3.7.3"
  }
 },
 "nbformat": 4,
 "nbformat_minor": 2
}
